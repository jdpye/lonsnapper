{
 "cells": [
  {
   "cell_type": "markdown",
   "metadata": {},
   "source": [
    "## Add an OTN project to the IPT as an Occurrence/Event/eMoF\n",
    "\n",
    "This script and supporting library will take an OTN schema and map it, metadata and data to Event Core. Given credentials for an IPT, it will attempt to update the IPT entry for that schema."
   ]
  },
  {
   "cell_type": "code",
   "execution_count": 93,
   "metadata": {},
   "outputs": [],
   "source": [
    "%load_ext autoreload\n",
    "%autoreload 2"
   ]
  },
  {
   "cell_type": "code",
   "execution_count": 94,
   "metadata": {},
   "outputs": [
    {
     "data": {
      "text/html": [
       "<style>.highlight{padding: 1em;}pre { line-height: 125%; }\n",
       "td.linenos .normal { color: #93a1a1; background-color: #eee8d5; padding-left: 5px; padding-right: 5px; }\n",
       "span.linenos { color: #93a1a1; background-color: #eee8d5; padding-left: 5px; padding-right: 5px; }\n",
       "td.linenos .special { color: #000000; background-color: #ffffc0; padding-left: 5px; padding-right: 5px; }\n",
       "span.linenos.special { color: #000000; background-color: #ffffc0; padding-left: 5px; padding-right: 5px; }\n",
       ".highlight .hll { background-color: #eee8d5 }\n",
       ".highlight { background: #fdf6e3; color: #657b83 }\n",
       ".highlight .c { color: #93a1a1; font-style: italic } /* Comment */\n",
       ".highlight .err { color: #657b83; background-color: #dc322f } /* Error */\n",
       ".highlight .esc { color: #657b83 } /* Escape */\n",
       ".highlight .g { color: #657b83 } /* Generic */\n",
       ".highlight .k { color: #859900 } /* Keyword */\n",
       ".highlight .l { color: #657b83 } /* Literal */\n",
       ".highlight .n { color: #657b83 } /* Name */\n",
       ".highlight .o { color: #93a1a1 } /* Operator */\n",
       ".highlight .x { color: #657b83 } /* Other */\n",
       ".highlight .p { color: #657b83 } /* Punctuation */\n",
       ".highlight .ch { color: #93a1a1; font-style: italic } /* Comment.Hashbang */\n",
       ".highlight .cm { color: #93a1a1; font-style: italic } /* Comment.Multiline */\n",
       ".highlight .cp { color: #d33682 } /* Comment.Preproc */\n",
       ".highlight .cpf { color: #93a1a1 } /* Comment.PreprocFile */\n",
       ".highlight .c1 { color: #93a1a1; font-style: italic } /* Comment.Single */\n",
       ".highlight .cs { color: #93a1a1; font-style: italic } /* Comment.Special */\n",
       ".highlight .gd { color: #dc322f } /* Generic.Deleted */\n",
       ".highlight .ge { color: #657b83; font-style: italic } /* Generic.Emph */\n",
       ".highlight .gr { color: #dc322f } /* Generic.Error */\n",
       ".highlight .gh { color: #657b83; font-weight: bold } /* Generic.Heading */\n",
       ".highlight .gi { color: #859900 } /* Generic.Inserted */\n",
       ".highlight .go { color: #657b83 } /* Generic.Output */\n",
       ".highlight .gp { color: #268bd2; font-weight: bold } /* Generic.Prompt */\n",
       ".highlight .gs { color: #657b83; font-weight: bold } /* Generic.Strong */\n",
       ".highlight .gu { color: #657b83; text-decoration: underline } /* Generic.Subheading */\n",
       ".highlight .gt { color: #268bd2 } /* Generic.Traceback */\n",
       ".highlight .kc { color: #2aa198 } /* Keyword.Constant */\n",
       ".highlight .kd { color: #2aa198 } /* Keyword.Declaration */\n",
       ".highlight .kn { color: #cb4b16 } /* Keyword.Namespace */\n",
       ".highlight .kp { color: #859900 } /* Keyword.Pseudo */\n",
       ".highlight .kr { color: #859900 } /* Keyword.Reserved */\n",
       ".highlight .kt { color: #b58900 } /* Keyword.Type */\n",
       ".highlight .ld { color: #657b83 } /* Literal.Date */\n",
       ".highlight .m { color: #2aa198 } /* Literal.Number */\n",
       ".highlight .s { color: #2aa198 } /* Literal.String */\n",
       ".highlight .na { color: #657b83 } /* Name.Attribute */\n",
       ".highlight .nb { color: #268bd2 } /* Name.Builtin */\n",
       ".highlight .nc { color: #268bd2 } /* Name.Class */\n",
       ".highlight .no { color: #268bd2 } /* Name.Constant */\n",
       ".highlight .nd { color: #268bd2 } /* Name.Decorator */\n",
       ".highlight .ni { color: #268bd2 } /* Name.Entity */\n",
       ".highlight .ne { color: #268bd2 } /* Name.Exception */\n",
       ".highlight .nf { color: #268bd2 } /* Name.Function */\n",
       ".highlight .nl { color: #268bd2 } /* Name.Label */\n",
       ".highlight .nn { color: #268bd2 } /* Name.Namespace */\n",
       ".highlight .nx { color: #657b83 } /* Name.Other */\n",
       ".highlight .py { color: #657b83 } /* Name.Property */\n",
       ".highlight .nt { color: #268bd2 } /* Name.Tag */\n",
       ".highlight .nv { color: #268bd2 } /* Name.Variable */\n",
       ".highlight .ow { color: #859900 } /* Operator.Word */\n",
       ".highlight .pm { color: #657b83 } /* Punctuation.Marker */\n",
       ".highlight .w { color: #657b83 } /* Text.Whitespace */\n",
       ".highlight .mb { color: #2aa198 } /* Literal.Number.Bin */\n",
       ".highlight .mf { color: #2aa198 } /* Literal.Number.Float */\n",
       ".highlight .mh { color: #2aa198 } /* Literal.Number.Hex */\n",
       ".highlight .mi { color: #2aa198 } /* Literal.Number.Integer */\n",
       ".highlight .mo { color: #2aa198 } /* Literal.Number.Oct */\n",
       ".highlight .sa { color: #2aa198 } /* Literal.String.Affix */\n",
       ".highlight .sb { color: #2aa198 } /* Literal.String.Backtick */\n",
       ".highlight .sc { color: #2aa198 } /* Literal.String.Char */\n",
       ".highlight .dl { color: #2aa198 } /* Literal.String.Delimiter */\n",
       ".highlight .sd { color: #93a1a1 } /* Literal.String.Doc */\n",
       ".highlight .s2 { color: #2aa198 } /* Literal.String.Double */\n",
       ".highlight .se { color: #2aa198 } /* Literal.String.Escape */\n",
       ".highlight .sh { color: #2aa198 } /* Literal.String.Heredoc */\n",
       ".highlight .si { color: #2aa198 } /* Literal.String.Interpol */\n",
       ".highlight .sx { color: #2aa198 } /* Literal.String.Other */\n",
       ".highlight .sr { color: #cb4b16 } /* Literal.String.Regex */\n",
       ".highlight .s1 { color: #2aa198 } /* Literal.String.Single */\n",
       ".highlight .ss { color: #2aa198 } /* Literal.String.Symbol */\n",
       ".highlight .bp { color: #268bd2 } /* Name.Builtin.Pseudo */\n",
       ".highlight .fm { color: #268bd2 } /* Name.Function.Magic */\n",
       ".highlight .vc { color: #268bd2 } /* Name.Variable.Class */\n",
       ".highlight .vg { color: #268bd2 } /* Name.Variable.Global */\n",
       ".highlight .vi { color: #268bd2 } /* Name.Variable.Instance */\n",
       ".highlight .vm { color: #268bd2 } /* Name.Variable.Magic */\n",
       ".highlight .il { color: #2aa198 } /* Literal.Number.Integer.Long */</style>"
      ],
      "text/plain": [
       "<IPython.core.display.HTML object>"
      ]
     },
     "metadata": {},
     "output_type": "display_data"
    }
   ],
   "source": [
    "from dbtools.load_styles import load_pygment_style\n",
    "from dbtools.connect_db import get_engine, test_engine_connection\n",
    "from dbtools import publish_to_obis as pub\n",
    "\n",
    "load_pygment_style('solarized-light')"
   ]
  },
  {
   "cell_type": "code",
   "execution_count": 95,
   "metadata": {},
   "outputs": [
    {
     "name": "stdout",
     "output_type": "stream",
     "text": [
      "\u001b[1m\u001b[32mDatabase connection established\u001b[0m\n",
      "Connection Type:\u001b[1m\u001b[34mpostgresql\u001b[0m Host:\u001b[1m\u001b[34mdb.load.oceantrack.org\u001b[0m Database:\u001b[1m\u001b[34motnunit\u001b[0m User:\u001b[1m\u001b[34mpye\u001b[0m Node:\u001b[1m\u001b[34mOTN\u001b[0m\n"
     ]
    },
    {
     "data": {
      "text/plain": [
       "True"
      ]
     },
     "execution_count": 95,
     "metadata": {},
     "output_type": "execute_result"
    }
   ],
   "source": [
    "# a little network tunnelling magic for connecting to OTN db\n",
    "engine = get_engine('../auth/otnunit_authfile.auth')\n",
    "test_engine_connection(engine)"
   ]
  },
  {
   "cell_type": "markdown",
   "metadata": {},
   "source": [
    "## Create Event Core Fileset - Tags and Receivers Projects"
   ]
  },
  {
   "cell_type": "markdown",
   "metadata": {},
   "source": [
    "For projects deploying their own receivers, we can create an Event Core set of files, showing the receiver deployment effort for the project as well as the detections of tagged animals.\n",
    "\n",
    "Projects contributing to the detection of a project's animals are included in the receiver event list, but only for those receivers that have detected the animals for this project.\n",
    "\n",
    "More details about the strategy for assembling the Event Core fileset, as well as the contents of the fields themselves, can be found at https://github.com/tdwg/dwc-for-biologging\n"
   ]
  },
  {
   "cell_type": "code",
   "execution_count": 96,
   "metadata": {},
   "outputs": [
    {
     "name": "stdout",
     "output_type": "stream",
     "text": [
      "Getting acoustic occurrences for capture data...OK\n",
      "Grabbing all detections\n",
      "    otn_detections_2007...OK\n",
      "    otn_detections_2008...OK\n",
      "    otn_detections_2009...OK\n",
      "    otn_detections_2010...OK\n",
      "    otn_detections_2011...OK\n",
      "    otn_detections_2012...OK\n",
      "    otn_detections_2013...OK\n",
      "    otn_detections_2014...OK\n",
      "    otn_detections_2015...OK\n",
      "    otn_detections_2016...OK\n",
      "    otn_detections_2017...OK\n",
      "    otn_detections_2018...OK\n",
      "    otn_detections_2019...OK\n",
      "    otn_detections_2020...OK\n",
      "    otn_detections_2021...OK\n",
      "    otn_detections_2022...OK\n",
      "    otn_detections_2023...OK\n",
      "    otn_detections_early...OK\n",
      "OK: Done grabbing detections\n",
      "Grabbing detection collectioncodes...OK\n",
      "Filtering using the resonate filter tool...\n",
      "Total detections in filtered dataframe: 335625\n",
      "736 suspect detections removed\n",
      "OK: Done filtering\n",
      "Running decimated occurrences:\n",
      "Running the ETN decimation on the filtered detections...OK\n"
     ]
    },
    {
     "name": "stderr",
     "output_type": "stream",
     "text": [
      "/home/jdpye/jupyter_files/ipy-utils-obis-dev/dbtools/publish_to_obis.py:323: UserWarning:\n",
      "\n",
      "DataFrame columns are not unique, some columns will be omitted.\n",
      "\n",
      "/home/jdpye/jupyter_files/ipy-utils-obis-dev/dbtools/publish_to_obis.py:324: UserWarning:\n",
      "\n",
      "DataFrame columns are not unique, some columns will be omitted.\n",
      "\n"
     ]
    },
    {
     "name": "stdout",
     "output_type": "stream",
     "text": [
      "EML metadata has been written to '/home/jdpye/jupyter_files/ipy-utils-obis-dev/obisoutput/otnotnnortherncodacoustic/eml.xml'.\n",
      "Creating fileset for DwC archive from the following files:\n",
      "Zipped file /home/jdpye/jupyter_files/ipy-utils-obis-dev/obisoutput/otnotnnortherncodacoustic/2023-11-08-18-19-57/meta.xml\n",
      "Zipped file /home/jdpye/jupyter_files/ipy-utils-obis-dev/obisoutput/otnotnnortherncodacoustic/eml.xml\n",
      "Zipped file obisoutput/otnotnnortherncodacoustic/2023-11-08-18-19-57/events.csv\n",
      "Zipped file obisoutput/otnotnnortherncodacoustic/2023-11-08-18-19-57/occurrences.csv\n",
      "Zipped file obisoutput/otnotnnortherncodacoustic/2023-11-08-18-19-57/emofs.csv\n"
     ]
    }
   ],
   "source": [
    "# Make an Event Core fileset for a project\n",
    "event_core_fileset = pub.create_event_core_fileset(code='NCAT', engine=engine, write_files=True)"
   ]
  },
  {
   "cell_type": "markdown",
   "metadata": {},
   "source": [
    "### Explore and validate the DwC archive we just made\n"
   ]
  },
  {
   "cell_type": "code",
   "execution_count": 97,
   "metadata": {},
   "outputs": [
    {
     "name": "stdout",
     "output_type": "stream",
     "text": [
      "Core type is http://rs.tdwg.org/dwc/terms/Event\n",
      "Extension http://rs.tdwg.org/dwc/terms/Occurrence present\n",
      "Extension http://rs.iobis.org/obis/terms/ExtendedMeasurementOrFact present\n",
      "Core dataframe has 27587 rows and 11 columns\n",
      "Extension http://rs.tdwg.org/dwc/terms/Occurrence has 28126 rows and 30 columns\n",
      "Extension http://rs.iobis.org/obis/terms/ExtendedMeasurementOrFact has 1548 rows and 10 columns\n"
     ]
    }
   ],
   "source": [
    "# ! pip install python-dwca-reader\n",
    "\n",
    "from dwca.read import DwCAReader\n",
    "from dwca.darwincore.utils import qualname as qn\n",
    "import plotly.express as px  # ok plotly do your thing.\n",
    "import ipywidgets\n",
    "# mapbox_token = \n",
    "\n",
    "# TODO: pass the file path along from the creation step.\n",
    "with DwCAReader('obisoutput/otnotnnortherncodacoustic/otnotnnortherncodacoustic_source_data.zip') as dwca:\n",
    "    dwca.metadata\n",
    "    print(\"Core type is %s\" % dwca.descriptor.core.type)\n",
    "    for e in dwca.descriptor.extensions:\n",
    "        print('Extension %s present' % e.type)\n",
    "        \n",
    "    core_df = dwca.pd_read(dwca.descriptor.core.file_location)\n",
    "    \n",
    "    print(\"Core dataframe has %s rows and %s columns\" % core_df.shape)\n",
    "    \n",
    "    for e in dwca.descriptor.extensions:\n",
    "        ext_df = dwca.pd_read(e.file_location, low_memory=False) # large files with mixed-type columns :/ \n",
    "        print(\"Extension %s has %s rows and %s columns\" % (e.type, ext_df.shape[0], ext_df.shape[1]))\n",
    "        if e.type == \"http://rs.tdwg.org/dwc/terms/Occurrence\":\n",
    "            occ_df = ext_df"
   ]
  },
  {
   "cell_type": "code",
   "execution_count": 83,
   "metadata": {},
   "outputs": [
    {
     "name": "stdout",
     "output_type": "stream",
     "text": [
      "Reduced 48540 occurrences to 263 distinct locations for the purposes of plotting geographic scope\n",
      "Project ranges from 2009-10-09 00:46:25 to 2014-08-30 08:32:29\n"
     ]
    },
    {
     "data": {
      "application/vnd.plotly.v1+json": {
       "config": {
        "plotlyServerURL": "https://plot.ly"
       },
       "data": [
        {
         "geo": "geo",
         "hovertemplate": "decimalLatitude=%{lat}<br>decimalLongitude=%{lon}<extra></extra>",
         "lat": [
          45.35675,
          45.060296,
          45.16645,
          45.13713,
          45.14379,
          45.33455,
          45.33565,
          45.34264,
          45.34595,
          45.3404,
          45.34029,
          45.34024,
          45.34025,
          45.34018,
          45.34011,
          45.34003,
          45.34001,
          45.3399,
          45.33986,
          45.33976,
          45.33992,
          45.33992,
          45.3401,
          45.34011,
          45.34035,
          45.35477,
          45.13713,
          45.14854,
          45.16077,
          44.94205,
          45.1605,
          42.3247,
          44.887667,
          44.927883,
          44.9619,
          44.9434,
          45.103515,
          45.322516,
          45.14685,
          45.10352,
          45.156,
          45.161,
          45.144,
          45.143805,
          44.9683,
          44.943517,
          44.94456,
          48.18883,
          48.08818,
          48.18342,
          45.26101,
          45.0995,
          45.38006,
          45.24947,
          45.38007,
          45.12601,
          45.15696,
          45.32316,
          45.45251,
          45.45652,
          45.45143,
          45.3808,
          45.24757,
          45.25127,
          45.1541,
          45.20621,
          45.34444,
          45.36133,
          45.04994,
          45.06176,
          45.38742,
          45.00234,
          45.15734,
          45.15886,
          45.15197,
          45.15114,
          45.15586,
          45.15435,
          45.1565,
          45.15806,
          45.15558,
          45.15711,
          45.26101,
          45.15287,
          45.14946,
          45.12602,
          45.13622,
          45.07787,
          45.15498,
          45.09851,
          45.13245,
          45.09956,
          45.24007,
          45.24286,
          45.24662,
          45.25126,
          45.15804,
          45.36991,
          45.1327,
          45.2486,
          45.00239,
          45.05029,
          45.18237,
          45.32288,
          45.26989,
          45.15803,
          45.1526,
          45.15352,
          45.133,
          45.07795,
          45.391056,
          45.38499,
          45.38907,
          45.243111,
          45.3515833,
          45.3451217,
          45.3613617,
          45.3418717,
          45.35482,
          45.35479,
          45.33208,
          45.35171,
          45.3449117,
          45.3547033,
          45.3450467,
          45.3418817,
          45.3418833,
          45.3387867,
          45.3288767,
          45.3321383,
          45.3289,
          45.3580333,
          45.32896,
          45.3256,
          45.35155,
          45.35807,
          45.34507,
          45.34579,
          45.3320667,
          45.3387167,
          45.3353717,
          45.36128,
          45.3547,
          45.35106,
          45.3288333,
          45.3256983,
          45.34837,
          45.3418,
          45.33856,
          45.32903,
          45.33206,
          45.3258,
          45.33861,
          45.34203,
          45.34502,
          45.34846,
          45.35168,
          45.35494,
          45.33542,
          45.32568,
          45.3289,
          45.33205,
          45.33548,
          45.36147,
          45.35812,
          45.35802,
          45.33536,
          45.35808,
          45.36131,
          45.34833,
          45.34188,
          45.3483517,
          45.3481533,
          45.33544,
          45.3320767,
          45.3387,
          45.361305,
          45.3580833,
          45.3547933,
          45.3386567,
          45.3353667,
          45.3255267,
          45.3256983,
          45.361265,
          45.3483417,
          45.2498,
          45.35911,
          45.37143,
          45.37027,
          45.33884,
          45.37838,
          45.33161,
          45.36747,
          45.1707,
          45.6,
          45.15,
          45.34967,
          45.3710617,
          45.3684867,
          45.3636,
          45.352937,
          45.3733117,
          45.3709167,
          45.289,
          45.349479,
          45.3685333,
          45.3660117,
          45.34241,
          45.3658517,
          45.3633917,
          45.326034,
          45.35656,
          45.357925,
          45.36191,
          45.3691,
          45.36164,
          45.36908,
          45.36668,
          45.36423,
          45.36761,
          45.36442,
          45.36418,
          45.363995,
          45.36745,
          45.36575,
          45.36417,
          45.36583,
          45.36292,
          45.36583,
          45.36429,
          45.36661,
          45.3605883,
          45.375805,
          45.26429,
          45.17845,
          45.22972,
          45.282,
          45.25333,
          45.288292,
          48.56195,
          48.56219,
          48.56318,
          48.56395,
          48.56421,
          48.56422,
          48.56482,
          48.56493,
          48.56492,
          48.56458,
          48.56501,
          48.56511,
          48.56319,
          48.56384,
          48.5622,
          45.36618,
          45.36176,
          45.37481,
          45.37108,
          45.35677,
          45.3532,
          45.34957,
          45.34603,
          45.33522
         ],
         "legendgroup": "",
         "lon": [
          -64.33468,
          -64.381202,
          -64.34648,
          -64.286434,
          -63.35016,
          -64.27646,
          -64.27769,
          -64.27738,
          -64.27777,
          -64.27844,
          -64.27417,
          -64.27197,
          -64.27006,
          -64.26801,
          -64.2657,
          -64.26384,
          -64.2618,
          -64.25991,
          -64.25764,
          -64.25597,
          -64.25321,
          -64.25276,
          -64.24889,
          -64.24776,
          -64.24612,
          -64.38913,
          -64.28643,
          -63.34269,
          -63.33094,
          -63.52819,
          -63.33081,
          -65.9096,
          -63.62337,
          -63.57605,
          -63.58136,
          -63.589117,
          -63.399274,
          -63.498298,
          -63.354567,
          -63.39927,
          -63.318,
          -63.385,
          -63.35,
          -63.350244,
          -63.57065,
          -63.546217,
          -63.52613,
          -53.59917,
          -53.71987,
          -53.79818,
          -64.33573,
          -64.2113,
          -64.06678,
          -64.03194,
          -64.06601,
          -64.27191,
          -64.35284,
          -63.49856,
          -66.14056,
          -66.13609,
          -66.133,
          -64.06197,
          -64.0321,
          -64.03239,
          -64.35318,
          -64.34914,
          -63.91462,
          -63.86768,
          -64.12291,
          -64.00821,
          -63.96145,
          -64.12894,
          -64.35622,
          -64.35486,
          -64.35832,
          -64.35609,
          -64.35766,
          -64.35907,
          -64.35399,
          -64.35265,
          -64.35173,
          -64.35036,
          -64.3357,
          -64.36051,
          -64.31836,
          -64.27511,
          -64.28236,
          -64.31647,
          -64.35543,
          -64.2119,
          -64.26917,
          -64.21014,
          -64.02424,
          -64.03131,
          -64.03237,
          -64.03237,
          -64.35265,
          -63.86283,
          -64.26737,
          -64.03136,
          -64.12894,
          -64.12151,
          -64.18073,
          -63.49871,
          -66.07578,
          -64.2022,
          -64.35457,
          -64.35684,
          -64.26408,
          -63.95708,
          -64.117583,
          -63.96981,
          -63.95764,
          -64.031528,
          -64.3906967,
          -64.395535,
          -64.383545,
          -64.397865,
          -64.3883733,
          -64.38838,
          -64.40515,
          -64.3904617,
          -64.3954867,
          -64.3885367,
          -64.3953667,
          -64.39783,
          -64.397925,
          -64.4003383,
          -64.40774,
          -64.40491,
          -64.4076117,
          -64.3859217,
          -64.40771,
          -64.40998,
          -64.39079,
          -64.38603,
          -64.39546,
          -64.3959,
          -64.405095,
          -64.40021,
          -64.4026433,
          -64.38355,
          -64.38818,
          -64.38985,
          -64.4073267,
          -64.4098833,
          -64.39296,
          -64.39769,
          -64.4002,
          -64.40736,
          -64.40513,
          -64.40986,
          -64.40003,
          -64.39762,
          -64.39495,
          -64.3932,
          -64.3908,
          -64.38836,
          -64.40282,
          -64.40993,
          -64.40683,
          -64.40524,
          -64.40248,
          -64.38361,
          -64.38605,
          -64.38609,
          -64.40267,
          -64.38615,
          -64.38369,
          -64.3931,
          -64.39789,
          -64.3931283,
          -64.393105,
          -64.4026583,
          -64.4051017,
          -64.40039,
          -64.3834983,
          -64.3859567,
          -64.3882983,
          -64.4002917,
          -64.4026667,
          -64.4100017,
          -64.409885,
          -64.3835583,
          -64.3931434,
          -64.4479,
          -64.42473,
          -64.44068,
          -64.42915,
          -64.45832,
          -64.44717,
          -64.46032,
          -64.44999,
          -64.757922,
          -65,
          -64.81,
          -64.4557,
          -64.4182633,
          -64.41994,
          -64.444695,
          -64.833655,
          -64.4366717,
          -64.4386283,
          -64.774,
          -64.224738,
          -64.440675,
          -64.4426983,
          -64.45738,
          -64.4216717,
          -64.42319,
          -64.706757,
          -64.42622,
          -64.426595,
          -64.44796,
          -64.419,
          -64.42333,
          -64.44247,
          -64.44434,
          -64.44613,
          -64.42736,
          -64.42135,
          -64.42917,
          -64.421297,
          -64.43001,
          -64.4287,
          -64.42997,
          -64.43129,
          -64.42522,
          -64.42254,
          -64.42404,
          -64.42046,
          -64.424925,
          -64.4350033,
          -62.06046,
          -61.97909,
          -62.02132,
          -62.05773,
          -62.06853,
          -62.484901,
          -53.88981,
          -53.89139,
          -53.89002,
          -53.89071,
          -53.88835,
          -53.88841,
          -53.89318,
          -53.89315,
          -53.89076,
          -53.88946,
          -53.89086,
          -53.88809,
          -53.89178,
          -53.89306,
          -53.89143,
          -64.43134,
          -64.43372,
          -64.44815,
          -64.44924,
          -64.45332,
          -64.45431,
          -64.455,
          -64.45639,
          -64.45941
         ],
         "marker": {
          "color": "#636efa",
          "symbol": "circle"
         },
         "mode": "markers",
         "name": "",
         "showlegend": false,
         "type": "scattergeo"
        }
       ],
       "layout": {
        "geo": {
         "center": {},
         "domain": {
          "x": [
           0,
           1
          ],
          "y": [
           0,
           1
          ]
         }
        },
        "legend": {
         "tracegroupgap": 0
        },
        "margin": {
         "t": 60
        },
        "template": {
         "data": {
          "bar": [
           {
            "error_x": {
             "color": "#2a3f5f"
            },
            "error_y": {
             "color": "#2a3f5f"
            },
            "marker": {
             "line": {
              "color": "#E5ECF6",
              "width": 0.5
             },
             "pattern": {
              "fillmode": "overlay",
              "size": 10,
              "solidity": 0.2
             }
            },
            "type": "bar"
           }
          ],
          "barpolar": [
           {
            "marker": {
             "line": {
              "color": "#E5ECF6",
              "width": 0.5
             },
             "pattern": {
              "fillmode": "overlay",
              "size": 10,
              "solidity": 0.2
             }
            },
            "type": "barpolar"
           }
          ],
          "carpet": [
           {
            "aaxis": {
             "endlinecolor": "#2a3f5f",
             "gridcolor": "white",
             "linecolor": "white",
             "minorgridcolor": "white",
             "startlinecolor": "#2a3f5f"
            },
            "baxis": {
             "endlinecolor": "#2a3f5f",
             "gridcolor": "white",
             "linecolor": "white",
             "minorgridcolor": "white",
             "startlinecolor": "#2a3f5f"
            },
            "type": "carpet"
           }
          ],
          "choropleth": [
           {
            "colorbar": {
             "outlinewidth": 0,
             "ticks": ""
            },
            "type": "choropleth"
           }
          ],
          "contour": [
           {
            "colorbar": {
             "outlinewidth": 0,
             "ticks": ""
            },
            "colorscale": [
             [
              0,
              "#0d0887"
             ],
             [
              0.1111111111111111,
              "#46039f"
             ],
             [
              0.2222222222222222,
              "#7201a8"
             ],
             [
              0.3333333333333333,
              "#9c179e"
             ],
             [
              0.4444444444444444,
              "#bd3786"
             ],
             [
              0.5555555555555556,
              "#d8576b"
             ],
             [
              0.6666666666666666,
              "#ed7953"
             ],
             [
              0.7777777777777778,
              "#fb9f3a"
             ],
             [
              0.8888888888888888,
              "#fdca26"
             ],
             [
              1,
              "#f0f921"
             ]
            ],
            "type": "contour"
           }
          ],
          "contourcarpet": [
           {
            "colorbar": {
             "outlinewidth": 0,
             "ticks": ""
            },
            "type": "contourcarpet"
           }
          ],
          "heatmap": [
           {
            "colorbar": {
             "outlinewidth": 0,
             "ticks": ""
            },
            "colorscale": [
             [
              0,
              "#0d0887"
             ],
             [
              0.1111111111111111,
              "#46039f"
             ],
             [
              0.2222222222222222,
              "#7201a8"
             ],
             [
              0.3333333333333333,
              "#9c179e"
             ],
             [
              0.4444444444444444,
              "#bd3786"
             ],
             [
              0.5555555555555556,
              "#d8576b"
             ],
             [
              0.6666666666666666,
              "#ed7953"
             ],
             [
              0.7777777777777778,
              "#fb9f3a"
             ],
             [
              0.8888888888888888,
              "#fdca26"
             ],
             [
              1,
              "#f0f921"
             ]
            ],
            "type": "heatmap"
           }
          ],
          "heatmapgl": [
           {
            "colorbar": {
             "outlinewidth": 0,
             "ticks": ""
            },
            "colorscale": [
             [
              0,
              "#0d0887"
             ],
             [
              0.1111111111111111,
              "#46039f"
             ],
             [
              0.2222222222222222,
              "#7201a8"
             ],
             [
              0.3333333333333333,
              "#9c179e"
             ],
             [
              0.4444444444444444,
              "#bd3786"
             ],
             [
              0.5555555555555556,
              "#d8576b"
             ],
             [
              0.6666666666666666,
              "#ed7953"
             ],
             [
              0.7777777777777778,
              "#fb9f3a"
             ],
             [
              0.8888888888888888,
              "#fdca26"
             ],
             [
              1,
              "#f0f921"
             ]
            ],
            "type": "heatmapgl"
           }
          ],
          "histogram": [
           {
            "marker": {
             "pattern": {
              "fillmode": "overlay",
              "size": 10,
              "solidity": 0.2
             }
            },
            "type": "histogram"
           }
          ],
          "histogram2d": [
           {
            "colorbar": {
             "outlinewidth": 0,
             "ticks": ""
            },
            "colorscale": [
             [
              0,
              "#0d0887"
             ],
             [
              0.1111111111111111,
              "#46039f"
             ],
             [
              0.2222222222222222,
              "#7201a8"
             ],
             [
              0.3333333333333333,
              "#9c179e"
             ],
             [
              0.4444444444444444,
              "#bd3786"
             ],
             [
              0.5555555555555556,
              "#d8576b"
             ],
             [
              0.6666666666666666,
              "#ed7953"
             ],
             [
              0.7777777777777778,
              "#fb9f3a"
             ],
             [
              0.8888888888888888,
              "#fdca26"
             ],
             [
              1,
              "#f0f921"
             ]
            ],
            "type": "histogram2d"
           }
          ],
          "histogram2dcontour": [
           {
            "colorbar": {
             "outlinewidth": 0,
             "ticks": ""
            },
            "colorscale": [
             [
              0,
              "#0d0887"
             ],
             [
              0.1111111111111111,
              "#46039f"
             ],
             [
              0.2222222222222222,
              "#7201a8"
             ],
             [
              0.3333333333333333,
              "#9c179e"
             ],
             [
              0.4444444444444444,
              "#bd3786"
             ],
             [
              0.5555555555555556,
              "#d8576b"
             ],
             [
              0.6666666666666666,
              "#ed7953"
             ],
             [
              0.7777777777777778,
              "#fb9f3a"
             ],
             [
              0.8888888888888888,
              "#fdca26"
             ],
             [
              1,
              "#f0f921"
             ]
            ],
            "type": "histogram2dcontour"
           }
          ],
          "mesh3d": [
           {
            "colorbar": {
             "outlinewidth": 0,
             "ticks": ""
            },
            "type": "mesh3d"
           }
          ],
          "parcoords": [
           {
            "line": {
             "colorbar": {
              "outlinewidth": 0,
              "ticks": ""
             }
            },
            "type": "parcoords"
           }
          ],
          "pie": [
           {
            "automargin": true,
            "type": "pie"
           }
          ],
          "scatter": [
           {
            "fillpattern": {
             "fillmode": "overlay",
             "size": 10,
             "solidity": 0.2
            },
            "type": "scatter"
           }
          ],
          "scatter3d": [
           {
            "line": {
             "colorbar": {
              "outlinewidth": 0,
              "ticks": ""
             }
            },
            "marker": {
             "colorbar": {
              "outlinewidth": 0,
              "ticks": ""
             }
            },
            "type": "scatter3d"
           }
          ],
          "scattercarpet": [
           {
            "marker": {
             "colorbar": {
              "outlinewidth": 0,
              "ticks": ""
             }
            },
            "type": "scattercarpet"
           }
          ],
          "scattergeo": [
           {
            "marker": {
             "colorbar": {
              "outlinewidth": 0,
              "ticks": ""
             }
            },
            "type": "scattergeo"
           }
          ],
          "scattergl": [
           {
            "marker": {
             "colorbar": {
              "outlinewidth": 0,
              "ticks": ""
             }
            },
            "type": "scattergl"
           }
          ],
          "scattermapbox": [
           {
            "marker": {
             "colorbar": {
              "outlinewidth": 0,
              "ticks": ""
             }
            },
            "type": "scattermapbox"
           }
          ],
          "scatterpolar": [
           {
            "marker": {
             "colorbar": {
              "outlinewidth": 0,
              "ticks": ""
             }
            },
            "type": "scatterpolar"
           }
          ],
          "scatterpolargl": [
           {
            "marker": {
             "colorbar": {
              "outlinewidth": 0,
              "ticks": ""
             }
            },
            "type": "scatterpolargl"
           }
          ],
          "scatterternary": [
           {
            "marker": {
             "colorbar": {
              "outlinewidth": 0,
              "ticks": ""
             }
            },
            "type": "scatterternary"
           }
          ],
          "surface": [
           {
            "colorbar": {
             "outlinewidth": 0,
             "ticks": ""
            },
            "colorscale": [
             [
              0,
              "#0d0887"
             ],
             [
              0.1111111111111111,
              "#46039f"
             ],
             [
              0.2222222222222222,
              "#7201a8"
             ],
             [
              0.3333333333333333,
              "#9c179e"
             ],
             [
              0.4444444444444444,
              "#bd3786"
             ],
             [
              0.5555555555555556,
              "#d8576b"
             ],
             [
              0.6666666666666666,
              "#ed7953"
             ],
             [
              0.7777777777777778,
              "#fb9f3a"
             ],
             [
              0.8888888888888888,
              "#fdca26"
             ],
             [
              1,
              "#f0f921"
             ]
            ],
            "type": "surface"
           }
          ],
          "table": [
           {
            "cells": {
             "fill": {
              "color": "#EBF0F8"
             },
             "line": {
              "color": "white"
             }
            },
            "header": {
             "fill": {
              "color": "#C8D4E3"
             },
             "line": {
              "color": "white"
             }
            },
            "type": "table"
           }
          ]
         },
         "layout": {
          "annotationdefaults": {
           "arrowcolor": "#2a3f5f",
           "arrowhead": 0,
           "arrowwidth": 1
          },
          "autotypenumbers": "strict",
          "coloraxis": {
           "colorbar": {
            "outlinewidth": 0,
            "ticks": ""
           }
          },
          "colorscale": {
           "diverging": [
            [
             0,
             "#8e0152"
            ],
            [
             0.1,
             "#c51b7d"
            ],
            [
             0.2,
             "#de77ae"
            ],
            [
             0.3,
             "#f1b6da"
            ],
            [
             0.4,
             "#fde0ef"
            ],
            [
             0.5,
             "#f7f7f7"
            ],
            [
             0.6,
             "#e6f5d0"
            ],
            [
             0.7,
             "#b8e186"
            ],
            [
             0.8,
             "#7fbc41"
            ],
            [
             0.9,
             "#4d9221"
            ],
            [
             1,
             "#276419"
            ]
           ],
           "sequential": [
            [
             0,
             "#0d0887"
            ],
            [
             0.1111111111111111,
             "#46039f"
            ],
            [
             0.2222222222222222,
             "#7201a8"
            ],
            [
             0.3333333333333333,
             "#9c179e"
            ],
            [
             0.4444444444444444,
             "#bd3786"
            ],
            [
             0.5555555555555556,
             "#d8576b"
            ],
            [
             0.6666666666666666,
             "#ed7953"
            ],
            [
             0.7777777777777778,
             "#fb9f3a"
            ],
            [
             0.8888888888888888,
             "#fdca26"
            ],
            [
             1,
             "#f0f921"
            ]
           ],
           "sequentialminus": [
            [
             0,
             "#0d0887"
            ],
            [
             0.1111111111111111,
             "#46039f"
            ],
            [
             0.2222222222222222,
             "#7201a8"
            ],
            [
             0.3333333333333333,
             "#9c179e"
            ],
            [
             0.4444444444444444,
             "#bd3786"
            ],
            [
             0.5555555555555556,
             "#d8576b"
            ],
            [
             0.6666666666666666,
             "#ed7953"
            ],
            [
             0.7777777777777778,
             "#fb9f3a"
            ],
            [
             0.8888888888888888,
             "#fdca26"
            ],
            [
             1,
             "#f0f921"
            ]
           ]
          },
          "colorway": [
           "#636efa",
           "#EF553B",
           "#00cc96",
           "#ab63fa",
           "#FFA15A",
           "#19d3f3",
           "#FF6692",
           "#B6E880",
           "#FF97FF",
           "#FECB52"
          ],
          "font": {
           "color": "#2a3f5f"
          },
          "geo": {
           "bgcolor": "white",
           "lakecolor": "white",
           "landcolor": "#E5ECF6",
           "showlakes": true,
           "showland": true,
           "subunitcolor": "white"
          },
          "hoverlabel": {
           "align": "left"
          },
          "hovermode": "closest",
          "mapbox": {
           "style": "light"
          },
          "paper_bgcolor": "white",
          "plot_bgcolor": "#E5ECF6",
          "polar": {
           "angularaxis": {
            "gridcolor": "white",
            "linecolor": "white",
            "ticks": ""
           },
           "bgcolor": "#E5ECF6",
           "radialaxis": {
            "gridcolor": "white",
            "linecolor": "white",
            "ticks": ""
           }
          },
          "scene": {
           "xaxis": {
            "backgroundcolor": "#E5ECF6",
            "gridcolor": "white",
            "gridwidth": 2,
            "linecolor": "white",
            "showbackground": true,
            "ticks": "",
            "zerolinecolor": "white"
           },
           "yaxis": {
            "backgroundcolor": "#E5ECF6",
            "gridcolor": "white",
            "gridwidth": 2,
            "linecolor": "white",
            "showbackground": true,
            "ticks": "",
            "zerolinecolor": "white"
           },
           "zaxis": {
            "backgroundcolor": "#E5ECF6",
            "gridcolor": "white",
            "gridwidth": 2,
            "linecolor": "white",
            "showbackground": true,
            "ticks": "",
            "zerolinecolor": "white"
           }
          },
          "shapedefaults": {
           "line": {
            "color": "#2a3f5f"
           }
          },
          "ternary": {
           "aaxis": {
            "gridcolor": "white",
            "linecolor": "white",
            "ticks": ""
           },
           "baxis": {
            "gridcolor": "white",
            "linecolor": "white",
            "ticks": ""
           },
           "bgcolor": "#E5ECF6",
           "caxis": {
            "gridcolor": "white",
            "linecolor": "white",
            "ticks": ""
           }
          },
          "title": {
           "x": 0.05
          },
          "xaxis": {
           "automargin": true,
           "gridcolor": "white",
           "linecolor": "white",
           "ticks": "",
           "title": {
            "standoff": 15
           },
           "zerolinecolor": "white",
           "zerolinewidth": 2
          },
          "yaxis": {
           "automargin": true,
           "gridcolor": "white",
           "linecolor": "white",
           "ticks": "",
           "title": {
            "standoff": 15
           },
           "zerolinecolor": "white",
           "zerolinewidth": 2
          }
         }
        }
       }
      },
      "text/html": [
       "<div>                            <div id=\"bea780f5-5636-4033-b69f-88aa20b06333\" class=\"plotly-graph-div\" style=\"height:525px; width:100%;\"></div>            <script type=\"text/javascript\">                require([\"plotly\"], function(Plotly) {                    window.PLOTLYENV=window.PLOTLYENV || {};                                    if (document.getElementById(\"bea780f5-5636-4033-b69f-88aa20b06333\")) {                    Plotly.newPlot(                        \"bea780f5-5636-4033-b69f-88aa20b06333\",                        [{\"geo\":\"geo\",\"hovertemplate\":\"decimalLatitude=%{lat}\\u003cbr\\u003edecimalLongitude=%{lon}\\u003cextra\\u003e\\u003c\\u002fextra\\u003e\",\"lat\":[45.35675,45.060296,45.16645,45.13713,45.14379,45.33455,45.33565,45.34264,45.34595,45.3404,45.34029,45.34024,45.34025,45.34018,45.34011,45.34003,45.34001,45.3399,45.33986,45.33976,45.33992,45.33992,45.3401,45.34011,45.34035,45.35477,45.13713,45.14854,45.16077,44.94205,45.1605,42.3247,44.887667,44.927883,44.9619,44.9434,45.103515,45.322516,45.14685,45.10352,45.156,45.161,45.144,45.143805,44.9683,44.943517,44.94456,48.18883,48.08818,48.18342,45.26101,45.0995,45.38006,45.24947,45.38007,45.12601,45.15696,45.32316,45.45251,45.45652,45.45143,45.3808,45.24757,45.25127,45.1541,45.20621,45.34444,45.36133,45.04994,45.06176,45.38742,45.00234,45.15734,45.15886,45.15197,45.15114,45.15586,45.15435,45.1565,45.15806,45.15558,45.15711,45.26101,45.15287,45.14946,45.12602,45.13622,45.07787,45.15498,45.09851,45.13245,45.09956,45.24007,45.24286,45.24662,45.25126,45.15804,45.36991,45.1327,45.2486,45.00239,45.05029,45.18237,45.32288,45.26989,45.15803,45.1526,45.15352,45.133,45.07795,45.391056,45.38499,45.38907,45.243111,45.3515833,45.3451217,45.3613617,45.3418717,45.35482,45.35479,45.33208,45.35171,45.3449117,45.3547033,45.3450467,45.3418817,45.3418833,45.3387867,45.3288767,45.3321383,45.3289,45.3580333,45.32896,45.3256,45.35155,45.35807,45.34507,45.34579,45.3320667,45.3387167,45.3353717,45.36128,45.3547,45.35106,45.3288333,45.3256983,45.34837,45.3418,45.33856,45.32903,45.33206,45.3258,45.33861,45.34203,45.34502,45.34846,45.35168,45.35494,45.33542,45.32568,45.3289,45.33205,45.33548,45.36147,45.35812,45.35802,45.33536,45.35808,45.36131,45.34833,45.34188,45.3483517,45.3481533,45.33544,45.3320767,45.3387,45.361305,45.3580833,45.3547933,45.3386567,45.3353667,45.3255267,45.3256983,45.361265,45.3483417,45.2498,45.35911,45.37143,45.37027,45.33884,45.37838,45.33161,45.36747,45.1707,45.6,45.15,45.34967,45.3710617,45.3684867,45.3636,45.352937,45.3733117,45.3709167,45.289,45.349479,45.3685333,45.3660117,45.34241,45.3658517,45.3633917,45.326034,45.35656,45.357925,45.36191,45.3691,45.36164,45.36908,45.36668,45.36423,45.36761,45.36442,45.36418,45.363995,45.36745,45.36575,45.36417,45.36583,45.36292,45.36583,45.36429,45.36661,45.3605883,45.375805,45.26429,45.17845,45.22972,45.282,45.25333,45.288292,48.56195,48.56219,48.56318,48.56395,48.56421,48.56422,48.56482,48.56493,48.56492,48.56458,48.56501,48.56511,48.56319,48.56384,48.5622,45.36618,45.36176,45.37481,45.37108,45.35677,45.3532,45.34957,45.34603,45.33522],\"legendgroup\":\"\",\"lon\":[-64.33468,-64.381202,-64.34648,-64.286434,-63.35016,-64.27646,-64.27769,-64.27738,-64.27777,-64.27844,-64.27417,-64.27197,-64.27006,-64.26801,-64.2657,-64.26384,-64.2618,-64.25991,-64.25764,-64.25597,-64.25321,-64.25276,-64.24889,-64.24776,-64.24612,-64.38913,-64.28643,-63.34269,-63.33094,-63.52819,-63.33081,-65.9096,-63.62337,-63.57605,-63.58136,-63.589117,-63.399274,-63.498298,-63.354567,-63.39927,-63.318,-63.385,-63.35,-63.350244,-63.57065,-63.546217,-63.52613,-53.59917,-53.71987,-53.79818,-64.33573,-64.2113,-64.06678,-64.03194,-64.06601,-64.27191,-64.35284,-63.49856,-66.14056,-66.13609,-66.133,-64.06197,-64.0321,-64.03239,-64.35318,-64.34914,-63.91462,-63.86768,-64.12291,-64.00821,-63.96145,-64.12894,-64.35622,-64.35486,-64.35832,-64.35609,-64.35766,-64.35907,-64.35399,-64.35265,-64.35173,-64.35036,-64.3357,-64.36051,-64.31836,-64.27511,-64.28236,-64.31647,-64.35543,-64.2119,-64.26917,-64.21014,-64.02424,-64.03131,-64.03237,-64.03237,-64.35265,-63.86283,-64.26737,-64.03136,-64.12894,-64.12151,-64.18073,-63.49871,-66.07578,-64.2022,-64.35457,-64.35684,-64.26408,-63.95708,-64.117583,-63.96981,-63.95764,-64.031528,-64.3906967,-64.395535,-64.383545,-64.397865,-64.3883733,-64.38838,-64.40515,-64.3904617,-64.3954867,-64.3885367,-64.3953667,-64.39783,-64.397925,-64.4003383,-64.40774,-64.40491,-64.4076117,-64.3859217,-64.40771,-64.40998,-64.39079,-64.38603,-64.39546,-64.3959,-64.405095,-64.40021,-64.4026433,-64.38355,-64.38818,-64.38985,-64.4073267,-64.4098833,-64.39296,-64.39769,-64.4002,-64.40736,-64.40513,-64.40986,-64.40003,-64.39762,-64.39495,-64.3932,-64.3908,-64.38836,-64.40282,-64.40993,-64.40683,-64.40524,-64.40248,-64.38361,-64.38605,-64.38609,-64.40267,-64.38615,-64.38369,-64.3931,-64.39789,-64.3931283,-64.393105,-64.4026583,-64.4051017,-64.40039,-64.3834983,-64.3859567,-64.3882983,-64.4002917,-64.4026667,-64.4100017,-64.409885,-64.3835583,-64.3931434,-64.4479,-64.42473,-64.44068,-64.42915,-64.45832,-64.44717,-64.46032,-64.44999,-64.757922,-65.0,-64.81,-64.4557,-64.4182633,-64.41994,-64.444695,-64.833655,-64.4366717,-64.4386283,-64.774,-64.224738,-64.440675,-64.4426983,-64.45738,-64.4216717,-64.42319,-64.706757,-64.42622,-64.426595,-64.44796,-64.419,-64.42333,-64.44247,-64.44434,-64.44613,-64.42736,-64.42135,-64.42917,-64.421297,-64.43001,-64.4287,-64.42997,-64.43129,-64.42522,-64.42254,-64.42404,-64.42046,-64.424925,-64.4350033,-62.06046,-61.97909,-62.02132,-62.05773,-62.06853,-62.484901,-53.88981,-53.89139,-53.89002,-53.89071,-53.88835,-53.88841,-53.89318,-53.89315,-53.89076,-53.88946,-53.89086,-53.88809,-53.89178,-53.89306,-53.89143,-64.43134,-64.43372,-64.44815,-64.44924,-64.45332,-64.45431,-64.455,-64.45639,-64.45941],\"marker\":{\"color\":\"#636efa\",\"symbol\":\"circle\"},\"mode\":\"markers\",\"name\":\"\",\"showlegend\":false,\"type\":\"scattergeo\"}],                        {\"template\":{\"data\":{\"histogram2dcontour\":[{\"type\":\"histogram2dcontour\",\"colorbar\":{\"outlinewidth\":0,\"ticks\":\"\"},\"colorscale\":[[0.0,\"#0d0887\"],[0.1111111111111111,\"#46039f\"],[0.2222222222222222,\"#7201a8\"],[0.3333333333333333,\"#9c179e\"],[0.4444444444444444,\"#bd3786\"],[0.5555555555555556,\"#d8576b\"],[0.6666666666666666,\"#ed7953\"],[0.7777777777777778,\"#fb9f3a\"],[0.8888888888888888,\"#fdca26\"],[1.0,\"#f0f921\"]]}],\"choropleth\":[{\"type\":\"choropleth\",\"colorbar\":{\"outlinewidth\":0,\"ticks\":\"\"}}],\"histogram2d\":[{\"type\":\"histogram2d\",\"colorbar\":{\"outlinewidth\":0,\"ticks\":\"\"},\"colorscale\":[[0.0,\"#0d0887\"],[0.1111111111111111,\"#46039f\"],[0.2222222222222222,\"#7201a8\"],[0.3333333333333333,\"#9c179e\"],[0.4444444444444444,\"#bd3786\"],[0.5555555555555556,\"#d8576b\"],[0.6666666666666666,\"#ed7953\"],[0.7777777777777778,\"#fb9f3a\"],[0.8888888888888888,\"#fdca26\"],[1.0,\"#f0f921\"]]}],\"heatmap\":[{\"type\":\"heatmap\",\"colorbar\":{\"outlinewidth\":0,\"ticks\":\"\"},\"colorscale\":[[0.0,\"#0d0887\"],[0.1111111111111111,\"#46039f\"],[0.2222222222222222,\"#7201a8\"],[0.3333333333333333,\"#9c179e\"],[0.4444444444444444,\"#bd3786\"],[0.5555555555555556,\"#d8576b\"],[0.6666666666666666,\"#ed7953\"],[0.7777777777777778,\"#fb9f3a\"],[0.8888888888888888,\"#fdca26\"],[1.0,\"#f0f921\"]]}],\"heatmapgl\":[{\"type\":\"heatmapgl\",\"colorbar\":{\"outlinewidth\":0,\"ticks\":\"\"},\"colorscale\":[[0.0,\"#0d0887\"],[0.1111111111111111,\"#46039f\"],[0.2222222222222222,\"#7201a8\"],[0.3333333333333333,\"#9c179e\"],[0.4444444444444444,\"#bd3786\"],[0.5555555555555556,\"#d8576b\"],[0.6666666666666666,\"#ed7953\"],[0.7777777777777778,\"#fb9f3a\"],[0.8888888888888888,\"#fdca26\"],[1.0,\"#f0f921\"]]}],\"contourcarpet\":[{\"type\":\"contourcarpet\",\"colorbar\":{\"outlinewidth\":0,\"ticks\":\"\"}}],\"contour\":[{\"type\":\"contour\",\"colorbar\":{\"outlinewidth\":0,\"ticks\":\"\"},\"colorscale\":[[0.0,\"#0d0887\"],[0.1111111111111111,\"#46039f\"],[0.2222222222222222,\"#7201a8\"],[0.3333333333333333,\"#9c179e\"],[0.4444444444444444,\"#bd3786\"],[0.5555555555555556,\"#d8576b\"],[0.6666666666666666,\"#ed7953\"],[0.7777777777777778,\"#fb9f3a\"],[0.8888888888888888,\"#fdca26\"],[1.0,\"#f0f921\"]]}],\"surface\":[{\"type\":\"surface\",\"colorbar\":{\"outlinewidth\":0,\"ticks\":\"\"},\"colorscale\":[[0.0,\"#0d0887\"],[0.1111111111111111,\"#46039f\"],[0.2222222222222222,\"#7201a8\"],[0.3333333333333333,\"#9c179e\"],[0.4444444444444444,\"#bd3786\"],[0.5555555555555556,\"#d8576b\"],[0.6666666666666666,\"#ed7953\"],[0.7777777777777778,\"#fb9f3a\"],[0.8888888888888888,\"#fdca26\"],[1.0,\"#f0f921\"]]}],\"mesh3d\":[{\"type\":\"mesh3d\",\"colorbar\":{\"outlinewidth\":0,\"ticks\":\"\"}}],\"scatter\":[{\"fillpattern\":{\"fillmode\":\"overlay\",\"size\":10,\"solidity\":0.2},\"type\":\"scatter\"}],\"parcoords\":[{\"type\":\"parcoords\",\"line\":{\"colorbar\":{\"outlinewidth\":0,\"ticks\":\"\"}}}],\"scatterpolargl\":[{\"type\":\"scatterpolargl\",\"marker\":{\"colorbar\":{\"outlinewidth\":0,\"ticks\":\"\"}}}],\"bar\":[{\"error_x\":{\"color\":\"#2a3f5f\"},\"error_y\":{\"color\":\"#2a3f5f\"},\"marker\":{\"line\":{\"color\":\"#E5ECF6\",\"width\":0.5},\"pattern\":{\"fillmode\":\"overlay\",\"size\":10,\"solidity\":0.2}},\"type\":\"bar\"}],\"scattergeo\":[{\"type\":\"scattergeo\",\"marker\":{\"colorbar\":{\"outlinewidth\":0,\"ticks\":\"\"}}}],\"scatterpolar\":[{\"type\":\"scatterpolar\",\"marker\":{\"colorbar\":{\"outlinewidth\":0,\"ticks\":\"\"}}}],\"histogram\":[{\"marker\":{\"pattern\":{\"fillmode\":\"overlay\",\"size\":10,\"solidity\":0.2}},\"type\":\"histogram\"}],\"scattergl\":[{\"type\":\"scattergl\",\"marker\":{\"colorbar\":{\"outlinewidth\":0,\"ticks\":\"\"}}}],\"scatter3d\":[{\"type\":\"scatter3d\",\"line\":{\"colorbar\":{\"outlinewidth\":0,\"ticks\":\"\"}},\"marker\":{\"colorbar\":{\"outlinewidth\":0,\"ticks\":\"\"}}}],\"scattermapbox\":[{\"type\":\"scattermapbox\",\"marker\":{\"colorbar\":{\"outlinewidth\":0,\"ticks\":\"\"}}}],\"scatterternary\":[{\"type\":\"scatterternary\",\"marker\":{\"colorbar\":{\"outlinewidth\":0,\"ticks\":\"\"}}}],\"scattercarpet\":[{\"type\":\"scattercarpet\",\"marker\":{\"colorbar\":{\"outlinewidth\":0,\"ticks\":\"\"}}}],\"carpet\":[{\"aaxis\":{\"endlinecolor\":\"#2a3f5f\",\"gridcolor\":\"white\",\"linecolor\":\"white\",\"minorgridcolor\":\"white\",\"startlinecolor\":\"#2a3f5f\"},\"baxis\":{\"endlinecolor\":\"#2a3f5f\",\"gridcolor\":\"white\",\"linecolor\":\"white\",\"minorgridcolor\":\"white\",\"startlinecolor\":\"#2a3f5f\"},\"type\":\"carpet\"}],\"table\":[{\"cells\":{\"fill\":{\"color\":\"#EBF0F8\"},\"line\":{\"color\":\"white\"}},\"header\":{\"fill\":{\"color\":\"#C8D4E3\"},\"line\":{\"color\":\"white\"}},\"type\":\"table\"}],\"barpolar\":[{\"marker\":{\"line\":{\"color\":\"#E5ECF6\",\"width\":0.5},\"pattern\":{\"fillmode\":\"overlay\",\"size\":10,\"solidity\":0.2}},\"type\":\"barpolar\"}],\"pie\":[{\"automargin\":true,\"type\":\"pie\"}]},\"layout\":{\"autotypenumbers\":\"strict\",\"colorway\":[\"#636efa\",\"#EF553B\",\"#00cc96\",\"#ab63fa\",\"#FFA15A\",\"#19d3f3\",\"#FF6692\",\"#B6E880\",\"#FF97FF\",\"#FECB52\"],\"font\":{\"color\":\"#2a3f5f\"},\"hovermode\":\"closest\",\"hoverlabel\":{\"align\":\"left\"},\"paper_bgcolor\":\"white\",\"plot_bgcolor\":\"#E5ECF6\",\"polar\":{\"bgcolor\":\"#E5ECF6\",\"angularaxis\":{\"gridcolor\":\"white\",\"linecolor\":\"white\",\"ticks\":\"\"},\"radialaxis\":{\"gridcolor\":\"white\",\"linecolor\":\"white\",\"ticks\":\"\"}},\"ternary\":{\"bgcolor\":\"#E5ECF6\",\"aaxis\":{\"gridcolor\":\"white\",\"linecolor\":\"white\",\"ticks\":\"\"},\"baxis\":{\"gridcolor\":\"white\",\"linecolor\":\"white\",\"ticks\":\"\"},\"caxis\":{\"gridcolor\":\"white\",\"linecolor\":\"white\",\"ticks\":\"\"}},\"coloraxis\":{\"colorbar\":{\"outlinewidth\":0,\"ticks\":\"\"}},\"colorscale\":{\"sequential\":[[0.0,\"#0d0887\"],[0.1111111111111111,\"#46039f\"],[0.2222222222222222,\"#7201a8\"],[0.3333333333333333,\"#9c179e\"],[0.4444444444444444,\"#bd3786\"],[0.5555555555555556,\"#d8576b\"],[0.6666666666666666,\"#ed7953\"],[0.7777777777777778,\"#fb9f3a\"],[0.8888888888888888,\"#fdca26\"],[1.0,\"#f0f921\"]],\"sequentialminus\":[[0.0,\"#0d0887\"],[0.1111111111111111,\"#46039f\"],[0.2222222222222222,\"#7201a8\"],[0.3333333333333333,\"#9c179e\"],[0.4444444444444444,\"#bd3786\"],[0.5555555555555556,\"#d8576b\"],[0.6666666666666666,\"#ed7953\"],[0.7777777777777778,\"#fb9f3a\"],[0.8888888888888888,\"#fdca26\"],[1.0,\"#f0f921\"]],\"diverging\":[[0,\"#8e0152\"],[0.1,\"#c51b7d\"],[0.2,\"#de77ae\"],[0.3,\"#f1b6da\"],[0.4,\"#fde0ef\"],[0.5,\"#f7f7f7\"],[0.6,\"#e6f5d0\"],[0.7,\"#b8e186\"],[0.8,\"#7fbc41\"],[0.9,\"#4d9221\"],[1,\"#276419\"]]},\"xaxis\":{\"gridcolor\":\"white\",\"linecolor\":\"white\",\"ticks\":\"\",\"title\":{\"standoff\":15},\"zerolinecolor\":\"white\",\"automargin\":true,\"zerolinewidth\":2},\"yaxis\":{\"gridcolor\":\"white\",\"linecolor\":\"white\",\"ticks\":\"\",\"title\":{\"standoff\":15},\"zerolinecolor\":\"white\",\"automargin\":true,\"zerolinewidth\":2},\"scene\":{\"xaxis\":{\"backgroundcolor\":\"#E5ECF6\",\"gridcolor\":\"white\",\"linecolor\":\"white\",\"showbackground\":true,\"ticks\":\"\",\"zerolinecolor\":\"white\",\"gridwidth\":2},\"yaxis\":{\"backgroundcolor\":\"#E5ECF6\",\"gridcolor\":\"white\",\"linecolor\":\"white\",\"showbackground\":true,\"ticks\":\"\",\"zerolinecolor\":\"white\",\"gridwidth\":2},\"zaxis\":{\"backgroundcolor\":\"#E5ECF6\",\"gridcolor\":\"white\",\"linecolor\":\"white\",\"showbackground\":true,\"ticks\":\"\",\"zerolinecolor\":\"white\",\"gridwidth\":2}},\"shapedefaults\":{\"line\":{\"color\":\"#2a3f5f\"}},\"annotationdefaults\":{\"arrowcolor\":\"#2a3f5f\",\"arrowhead\":0,\"arrowwidth\":1},\"geo\":{\"bgcolor\":\"white\",\"landcolor\":\"#E5ECF6\",\"subunitcolor\":\"white\",\"showland\":true,\"showlakes\":true,\"lakecolor\":\"white\"},\"title\":{\"x\":0.05},\"mapbox\":{\"style\":\"light\"}}},\"geo\":{\"domain\":{\"x\":[0.0,1.0],\"y\":[0.0,1.0]},\"center\":{}},\"legend\":{\"tracegroupgap\":0},\"margin\":{\"t\":60}},                        {\"responsive\": true}                    ).then(function(){\n",
       "                            \n",
       "var gd = document.getElementById('bea780f5-5636-4033-b69f-88aa20b06333');\n",
       "var x = new MutationObserver(function (mutations, observer) {{\n",
       "        var display = window.getComputedStyle(gd).display;\n",
       "        if (!display || display === 'none') {{\n",
       "            console.log([gd, 'removed!']);\n",
       "            Plotly.purge(gd);\n",
       "            observer.disconnect();\n",
       "        }}\n",
       "}});\n",
       "\n",
       "// Listen for the removal of the full notebook cells\n",
       "var notebookContainer = gd.closest('#notebook-container');\n",
       "if (notebookContainer) {{\n",
       "    x.observe(notebookContainer, {childList: true});\n",
       "}}\n",
       "\n",
       "// Listen for the clearing of the current output cell\n",
       "var outputEl = gd.closest('.output');\n",
       "if (outputEl) {{\n",
       "    x.observe(outputEl, {childList: true});\n",
       "}}\n",
       "\n",
       "                        })                };                });            </script>        </div>"
      ]
     },
     "metadata": {},
     "output_type": "display_data"
    }
   ],
   "source": [
    "# Get spatial and temporal extents.\n",
    "# don't need multiple points at the same locations, drop duplicates\n",
    "geo_df = core_df[['decimalLatitude', 'decimalLongitude']].drop_duplicates()\n",
    "print(\"Reduced %s occurrences to %s distinct locations for the purposes of plotting geographic scope\" % (len(core_df), len(geo_df)))\n",
    "print(\"Project ranges from %s to %s\" % (core_df.eventDate.min(), core_df.eventDate.max()))\n",
    "fig = px.scatter_geo(geo_df, lat='decimalLatitude', lon='decimalLongitude')\n",
    "fig.show()\n",
    "    "
   ]
  },
  {
   "cell_type": "code",
   "execution_count": 98,
   "metadata": {},
   "outputs": [],
   "source": [
    "# Lonboard go!\n",
    "\n",
    "# Tentative plan:\n",
    "# Make a set of line geometry objects per individual fish \n",
    "# and plot using lonboard.\n",
    "import geopandas as gpd\n",
    "import numpy as np\n",
    "import pandas as pd\n",
    "import shapely\n",
    "# from palettable.colobrewer.diverging import BrBG_10\n",
    "\n",
    "from lonboard import viz, Map, ScatterplotLayer\n",
    "import ipywidgets\n",
    "from lonboard.colormap import apply_continuous_cmap"
   ]
  },
  {
   "cell_type": "code",
   "execution_count": 99,
   "metadata": {},
   "outputs": [
    {
     "name": "stdout",
     "output_type": "stream",
     "text": [
      "Combining Event Core location data with Occurrence extension data\n"
     ]
    }
   ],
   "source": [
    "# if it's Event Core, merge the event/occurrence dataframes\n",
    "if(dwca.descriptor.core.type == \"http://rs.tdwg.org/dwc/terms/Event\"):\n",
    "    print(\"Combining Event Core location data with Occurrence extension data\")\n",
    "    all_df = pd.merge(core_df, occ_df, on='eventID')\n",
    "elif(dwca.descriptor.core.type == \"http://rs.tdwg.org/dwc/terms/Occurrence\"):\n",
    "    print(\"Core is Occurrence, skipping join step.\")\n",
    "    all_df = core_df"
   ]
  },
  {
   "cell_type": "code",
   "execution_count": 100,
   "metadata": {},
   "outputs": [],
   "source": [
    "all_gdf = gpd.GeoDataFrame(all_df, geometry= gpd.points_from_xy(all_df.decimalLongitude, all_df.decimalLatitude), crs=4326)"
   ]
  },
  {
   "cell_type": "code",
   "execution_count": 101,
   "metadata": {},
   "outputs": [],
   "source": [
    "# What do the individual points look like, maybe scale the radius by detection counts?\n",
    "\n",
    "map_ = viz(all_gdf, radius_min_pixels=3)"
   ]
  },
  {
   "cell_type": "code",
   "execution_count": 102,
   "metadata": {},
   "outputs": [
    {
     "data": {
      "application/vnd.jupyter.widget-view+json": {
       "model_id": "70809f7f42d9439cab913fb97e0a2b2b",
       "version_major": 2,
       "version_minor": 0
      },
      "text/plain": [
       "Map(layers=[ScatterplotLayer(radius_min_pixels=3.0, table=pyarrow.Table\n",
       "id: string\n",
       "decimalLatitude: double\n",
       "dec…"
      ]
     },
     "metadata": {},
     "output_type": "display_data"
    }
   ],
   "source": [
    "map_"
   ]
  },
  {
   "cell_type": "code",
   "execution_count": 103,
   "metadata": {},
   "outputs": [],
   "source": [
    "# make a LineString for each individual from the earliest to last date of occurrence\n",
    "# order by individual and date, then group by?\n",
    "# or do we make a linestring based on the existing gdf\n",
    "from shapely.geometry import LineString\n",
    "\n",
    "# first, drop all single-row elements from the gdf, linestrings hate that shit.\n",
    "no_single_dets = all_gdf['organismID'].value_counts() > 1\n",
    "filtered_gdf = all_gdf[all_gdf['organismID'].isin(no_single_dets[no_single_dets].index)]\n",
    "\n",
    "# then make lines\n",
    "line_gdf = filtered_gdf.sort_values(by=['organismID','eventDate']).groupby('organismID')['geometry'].apply(lambda x: LineString(x.tolist())).reset_index()"
   ]
  },
  {
   "cell_type": "code",
   "execution_count": 106,
   "metadata": {},
   "outputs": [
    {
     "data": {
      "text/html": [
       "<div>\n",
       "<style scoped>\n",
       "    .dataframe tbody tr th:only-of-type {\n",
       "        vertical-align: middle;\n",
       "    }\n",
       "\n",
       "    .dataframe tbody tr th {\n",
       "        vertical-align: top;\n",
       "    }\n",
       "\n",
       "    .dataframe thead th {\n",
       "        text-align: right;\n",
       "    }\n",
       "</style>\n",
       "<table border=\"1\" class=\"dataframe\">\n",
       "  <thead>\n",
       "    <tr style=\"text-align: right;\">\n",
       "      <th></th>\n",
       "      <th>organismID</th>\n",
       "      <th>geometry</th>\n",
       "    </tr>\n",
       "  </thead>\n",
       "  <tbody>\n",
       "    <tr>\n",
       "      <th>0</th>\n",
       "      <td>NCAT-1282890-2019-07-09</td>\n",
       "      <td>LINESTRING (-53.13870 48.70990, -53.06620 48.7...</td>\n",
       "    </tr>\n",
       "    <tr>\n",
       "      <th>1</th>\n",
       "      <td>NCAT-1282891-2019-07-09</td>\n",
       "      <td>LINESTRING (-53.06620 48.70920, -53.13870 48.7...</td>\n",
       "    </tr>\n",
       "    <tr>\n",
       "      <th>2</th>\n",
       "      <td>NCAT-1282892-2019-07-09</td>\n",
       "      <td>LINESTRING (-53.13870 48.70990, -53.13870 48.7...</td>\n",
       "    </tr>\n",
       "    <tr>\n",
       "      <th>3</th>\n",
       "      <td>NCAT-1282894-2019-07-08</td>\n",
       "      <td>LINESTRING (-53.06620 48.70920, -53.06620 48.7...</td>\n",
       "    </tr>\n",
       "    <tr>\n",
       "      <th>4</th>\n",
       "      <td>NCAT-1282895-2019-07-08</td>\n",
       "      <td>LINESTRING (-52.99760 48.43530, -52.99760 48.4...</td>\n",
       "    </tr>\n",
       "    <tr>\n",
       "      <th>...</th>\n",
       "      <td>...</td>\n",
       "      <td>...</td>\n",
       "    </tr>\n",
       "    <tr>\n",
       "      <th>343</th>\n",
       "      <td>NCAT-1287713-2019-07-23</td>\n",
       "      <td>LINESTRING (-52.58617 47.53633, -52.58617 47.5...</td>\n",
       "    </tr>\n",
       "    <tr>\n",
       "      <th>344</th>\n",
       "      <td>NCAT-1287714-2019-07-23</td>\n",
       "      <td>LINESTRING (-52.09991 53.66607, -52.13978 53.0...</td>\n",
       "    </tr>\n",
       "    <tr>\n",
       "      <th>345</th>\n",
       "      <td>NCAT-1287715-2019-07-23</td>\n",
       "      <td>LINESTRING (-52.77600 48.16470, -52.77600 48.1...</td>\n",
       "    </tr>\n",
       "    <tr>\n",
       "      <th>346</th>\n",
       "      <td>NCAT-1287716-2019-07-23</td>\n",
       "      <td>LINESTRING (-52.63290 47.46870, -52.63290 47.4...</td>\n",
       "    </tr>\n",
       "    <tr>\n",
       "      <th>347</th>\n",
       "      <td>NCAT-1290355-2019-07-23</td>\n",
       "      <td>LINESTRING (-52.77600 48.16470, -52.77600 48.1...</td>\n",
       "    </tr>\n",
       "  </tbody>\n",
       "</table>\n",
       "<p>348 rows × 2 columns</p>\n",
       "</div>"
      ],
      "text/plain": [
       "                  organismID  \\\n",
       "0    NCAT-1282890-2019-07-09   \n",
       "1    NCAT-1282891-2019-07-09   \n",
       "2    NCAT-1282892-2019-07-09   \n",
       "3    NCAT-1282894-2019-07-08   \n",
       "4    NCAT-1282895-2019-07-08   \n",
       "..                       ...   \n",
       "343  NCAT-1287713-2019-07-23   \n",
       "344  NCAT-1287714-2019-07-23   \n",
       "345  NCAT-1287715-2019-07-23   \n",
       "346  NCAT-1287716-2019-07-23   \n",
       "347  NCAT-1290355-2019-07-23   \n",
       "\n",
       "                                              geometry  \n",
       "0    LINESTRING (-53.13870 48.70990, -53.06620 48.7...  \n",
       "1    LINESTRING (-53.06620 48.70920, -53.13870 48.7...  \n",
       "2    LINESTRING (-53.13870 48.70990, -53.13870 48.7...  \n",
       "3    LINESTRING (-53.06620 48.70920, -53.06620 48.7...  \n",
       "4    LINESTRING (-52.99760 48.43530, -52.99760 48.4...  \n",
       "..                                                 ...  \n",
       "343  LINESTRING (-52.58617 47.53633, -52.58617 47.5...  \n",
       "344  LINESTRING (-52.09991 53.66607, -52.13978 53.0...  \n",
       "345  LINESTRING (-52.77600 48.16470, -52.77600 48.1...  \n",
       "346  LINESTRING (-52.63290 47.46870, -52.63290 47.4...  \n",
       "347  LINESTRING (-52.77600 48.16470, -52.77600 48.1...  \n",
       "\n",
       "[348 rows x 2 columns]"
      ]
     },
     "execution_count": 106,
     "metadata": {},
     "output_type": "execute_result"
    }
   ],
   "source": [
    "line_gdf"
   ]
  },
  {
   "cell_type": "code",
   "execution_count": 104,
   "metadata": {},
   "outputs": [
    {
     "data": {
      "application/vnd.jupyter.widget-view+json": {
       "model_id": "a6b2cb13c3264144ba0905bfdd311a77",
       "version_major": 2,
       "version_minor": 0
      },
      "text/plain": [
       "Map(layers=[PathLayer(table=pyarrow.Table\n",
       "organismID: string\n",
       "geometry: list<item: fixed_size_list<item: double…"
      ]
     },
     "metadata": {},
     "output_type": "display_data"
    }
   ],
   "source": [
    "from lonboard import Map, PathLayer\n",
    "layer = PathLayer.from_geopandas(line_gdf, auto_downcast=False, width_min_pixels=1)\n",
    "map_ = Map(layers=[layer])\n",
    "map_"
   ]
  },
  {
   "cell_type": "code",
   "execution_count": 107,
   "metadata": {},
   "outputs": [
    {
     "name": "stdout",
     "output_type": "stream",
     "text": [
      "Empty GeoDataFrame\n",
      "Columns: [id, decimalLatitude, decimalLongitude, eventID, footprintWKT, eventDate, geodeticDatum, fieldNotes, parentEventID, maximumDepthInMeters, coordinateUncertaintyInMeters, coreid, license, rightsHolder, accessRights, institutionID, datasetID, institutionCode, collectionCode, datasetName, basisOfRecord, occurrenceID, catalogNumber, recordedBy, individualCount, sex, lifeStage, occurrenceStatus, occurrenceRemarks, organismID, organismName, organismScope, startDayOfYear, endDayOfYear, samplingProtocol, locality, scientificNameID, scientificName, kingdom, vernacularName, geometry]\n",
      "Index: []\n",
      "\n",
      "[0 rows x 41 columns]\n"
     ]
    },
    {
     "data": {
      "application/vnd.jupyter.widget-view+json": {
       "model_id": "94f248378f6049a0b64b988003770e53",
       "version_major": 2,
       "version_minor": 0
      },
      "text/plain": [
       "Map(layers=[PathLayer(table=pyarrow.Table\n",
       "organismID: string\n",
       "__index_level_0__: int64\n",
       "geometry: list<item: fix…"
      ]
     },
     "metadata": {},
     "output_type": "display_data"
    }
   ],
   "source": [
    "## Isolate an individual\n",
    "\n",
    "from lonboard import Map, PathLayer\n",
    "indiv='NCAT-1287714-2019-07-23'\n",
    "layer = PathLayer.from_geopandas(line_gdf[line_gdf['organismID']==indiv], auto_downcast=False, width_min_pixels=1)\n",
    "map_ = Map(layers=[layer])\n",
    "print(all_gdf[((all_gdf['organismID']==indiv) & (all_gdf['basisOfRecord']=='HumanObservation'))])\n",
    "map_"
   ]
  },
  {
   "cell_type": "markdown",
   "metadata": {},
   "source": [
    "### "
   ]
  },
  {
   "cell_type": "markdown",
   "metadata": {},
   "source": [
    "### Close the engine"
   ]
  },
  {
   "cell_type": "code",
   "execution_count": null,
   "metadata": {
    "pycharm": {
     "name": "#%%\n"
    }
   },
   "outputs": [],
   "source": [
    "# Drop the database connection afterward\n",
    "engine.dispose()"
   ]
  },
  {
   "cell_type": "code",
   "execution_count": null,
   "metadata": {},
   "outputs": [],
   "source": [
    "# TODO: Add a Frictionless Data schema"
   ]
  },
  {
   "cell_type": "code",
   "execution_count": 78,
   "metadata": {},
   "outputs": [],
   "source": [
    "# Look at the ATN proposed data format\n",
    "\n",
    "atn_df = pd.read_csv('../input/atn_45866_occurrence.csv')\n",
    "atn_gdf = gpd.GeoDataFrame(atn_df, geometry= gpd.points_from_xy(atn_df.decimalLongitude, atn_df.decimalLatitude), crs=4326)"
   ]
  },
  {
   "cell_type": "code",
   "execution_count": 58,
   "metadata": {},
   "outputs": [],
   "source": [
    "map_ = viz(atn_gdf, radius_min_pixels=3)"
   ]
  },
  {
   "cell_type": "code",
   "execution_count": 59,
   "metadata": {},
   "outputs": [
    {
     "data": {
      "application/vnd.jupyter.widget-view+json": {
       "model_id": "233a476179334f23ab6663d2f9a24593",
       "version_major": 2,
       "version_minor": 0
      },
      "text/plain": [
       "Map(layers=[ScatterplotLayer(radius_min_pixels=3.0, table=pyarrow.Table\n",
       "basisOfRecord: string\n",
       "organismID: stri…"
      ]
     },
     "metadata": {},
     "output_type": "display_data"
    }
   ],
   "source": [
    "map_"
   ]
  },
  {
   "cell_type": "code",
   "execution_count": 79,
   "metadata": {},
   "outputs": [],
   "source": [
    "# make a LineString for each individual from the earliest to last date of occurrence\n",
    "# order by individual and date, then group by?\n",
    "# or do we make a linestring based on the existing gdf\n",
    "from shapely.geometry import LineString\n",
    "\n",
    "# first, drop all single-row elements from the gdf, linestrings hate that shit.\n",
    "atn_no_single_dets = atn_gdf['organismID'].value_counts() > 1\n",
    "atn_filtered_gdf = atn_gdf[atn_gdf['organismID'].isin(atn_no_single_dets[atn_no_single_dets].index)]\n",
    "\n",
    "# then make lines\n",
    "atn_line_gdf = atn_filtered_gdf.sort_values(by=['organismID','eventDate']).groupby('organismID')['geometry'].apply(lambda x: LineString(x.tolist())).reset_index()"
   ]
  },
  {
   "cell_type": "code",
   "execution_count": 80,
   "metadata": {},
   "outputs": [
    {
     "data": {
      "text/html": [
       "<div>\n",
       "<style scoped>\n",
       "    .dataframe tbody tr th:only-of-type {\n",
       "        vertical-align: middle;\n",
       "    }\n",
       "\n",
       "    .dataframe tbody tr th {\n",
       "        vertical-align: top;\n",
       "    }\n",
       "\n",
       "    .dataframe thead th {\n",
       "        text-align: right;\n",
       "    }\n",
       "</style>\n",
       "<table border=\"1\" class=\"dataframe\">\n",
       "  <thead>\n",
       "    <tr style=\"text-align: right;\">\n",
       "      <th></th>\n",
       "      <th>organismID</th>\n",
       "      <th>geometry</th>\n",
       "    </tr>\n",
       "  </thead>\n",
       "  <tbody>\n",
       "    <tr>\n",
       "      <th>0</th>\n",
       "      <td>105838_great_white_shark</td>\n",
       "      <td>LINESTRING (-118.56000 34.03000, -166.18000 23...</td>\n",
       "    </tr>\n",
       "  </tbody>\n",
       "</table>\n",
       "</div>"
      ],
      "text/plain": [
       "                 organismID                                           geometry\n",
       "0  105838_great_white_shark  LINESTRING (-118.56000 34.03000, -166.18000 23..."
      ]
     },
     "execution_count": 80,
     "metadata": {},
     "output_type": "execute_result"
    }
   ],
   "source": [
    "atn_line_gdf"
   ]
  },
  {
   "cell_type": "code",
   "execution_count": 81,
   "metadata": {},
   "outputs": [
    {
     "data": {
      "application/vnd.jupyter.widget-view+json": {
       "model_id": "59dac26313b043e0876eda03b7512058",
       "version_major": 2,
       "version_minor": 0
      },
      "text/plain": [
       "Map(layers=[PathLayer(table=pyarrow.Table\n",
       "organismID: string\n",
       "geometry: list<item: fixed_size_list<item: double…"
      ]
     },
     "metadata": {},
     "output_type": "display_data"
    }
   ],
   "source": [
    "from lonboard import Map, PathLayer\n",
    "layer = PathLayer.from_geopandas(atn_line_gdf, auto_downcast=False, width_min_pixels=1)\n",
    "map_ = Map(layers=[layer])\n",
    "map_"
   ]
  },
  {
   "cell_type": "code",
   "execution_count": null,
   "metadata": {},
   "outputs": [],
   "source": []
  }
 ],
 "metadata": {
  "kernelspec": {
   "display_name": "nodebook",
   "language": "python",
   "name": "nodebook"
  },
  "language_info": {
   "codemirror_mode": {
    "name": "ipython",
    "version": 3
   },
   "file_extension": ".py",
   "mimetype": "text/x-python",
   "name": "python",
   "nbconvert_exporter": "python",
   "pygments_lexer": "ipython3",
   "version": "3.8.16"
  }
 },
 "nbformat": 4,
 "nbformat_minor": 2
}
